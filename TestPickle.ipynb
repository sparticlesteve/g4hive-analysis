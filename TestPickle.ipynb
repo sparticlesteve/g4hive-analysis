{
 "cells": [
  {
   "cell_type": "markdown",
   "metadata": {},
   "source": [
    "# Pickling the G4Hive analysis results\n",
    "A notebook for testing this feature"
   ]
  },
  {
   "cell_type": "code",
   "execution_count": 1,
   "metadata": {
    "collapsed": true
   },
   "outputs": [],
   "source": [
    "from utils.prep import parse_job_results"
   ]
  },
  {
   "cell_type": "code",
   "execution_count": 2,
   "metadata": {
    "collapsed": false
   },
   "outputs": [
    {
     "name": "stdout",
     "output_type": "stream",
     "text": [
      "G4HiveAna_1muon.ipynb             \u001b[34mresults_aibuild_tt_2016_05_21\u001b[m\u001b[m/\r\n",
      "G4HiveAna_1muon_knl.ipynb         \u001b[34mresults_aibuild_tt_2016_05_25\u001b[m\u001b[m/\r\n",
      "G4HiveAna_ttbar.ipynb             \u001b[34mresults_aibuild_tt_2016_05_31\u001b[m\u001b[m/\r\n",
      "README.md                         \u001b[34mresults_cori_1mu_2016_05_17\u001b[m\u001b[m/\r\n",
      "TestPickle.ipynb                  \u001b[34mresults_endeavour_1mu\u001b[m\u001b[m/\r\n",
      "\u001b[31mparseResults.py\u001b[m\u001b[m*                  \u001b[34mresults_endeavour_1mu_2016_08_06\u001b[m\u001b[m/\r\n",
      "\u001b[34mresults_aibuild_1mu_2016_05_19\u001b[m\u001b[m/   \u001b[34mresults_endeavour_1mu_2016_08_14\u001b[m\u001b[m/\r\n",
      "\u001b[34mresults_aibuild_1mu_2016_07_22\u001b[m\u001b[m/   \u001b[34mutils\u001b[m\u001b[m/\r\n"
     ]
    }
   ],
   "source": [
    "ls"
   ]
  },
  {
   "cell_type": "code",
   "execution_count": 3,
   "metadata": {
    "collapsed": true
   },
   "outputs": [],
   "source": [
    "results_dir='results_cori_1mu_2016_05_17/'"
   ]
  },
  {
   "cell_type": "code",
   "execution_count": 4,
   "metadata": {
    "collapsed": false
   },
   "outputs": [
    {
     "name": "stdout",
     "output_type": "stream",
     "text": [
      "log.10_0_1000.log       mem.10_0_1000.csv       timeline.10_0_1000.log\r\n",
      "log.12_0_1000.log       mem.12_0_1000.csv       timeline.12_0_1000.log\r\n",
      "log.14_0_1000.log       mem.14_0_1000.csv       timeline.14_0_1000.log\r\n",
      "log.16_0_1000.log       mem.16_0_1000.csv       timeline.16_0_1000.log\r\n",
      "log.18_0_1000.log       mem.18_0_1000.csv       timeline.18_0_1000.log\r\n",
      "log.1_0_1000.log        mem.1_0_1000.csv        timeline.1_0_1000.log\r\n",
      "log.20_0_1000.log       mem.20_0_1000.csv       timeline.20_0_1000.log\r\n",
      "log.22_0_1000.log       mem.22_0_1000.csv       timeline.22_0_1000.log\r\n",
      "log.24_0_1000.log       mem.24_0_1000.csv       timeline.24_0_1000.log\r\n",
      "log.26_0_1000.log       mem.26_0_1000.csv       timeline.26_0_1000.log\r\n",
      "log.28_0_1000.log       mem.28_0_1000.csv       timeline.28_0_1000.log\r\n",
      "log.2_0_1000.log        mem.2_0_1000.csv        timeline.2_0_1000.log\r\n",
      "log.30_0_1000.log       mem.30_0_1000.csv       timeline.30_0_1000.log\r\n",
      "log.32_0_1000.log       mem.32_0_1000.csv       timeline.32_0_1000.log\r\n",
      "log.3_0_1000.log        mem.3_0_1000.csv        timeline.3_0_1000.log\r\n",
      "log.4_0_1000.log        mem.4_0_1000.csv        timeline.4_0_1000.log\r\n",
      "log.6_0_1000.log        mem.6_0_1000.csv        timeline.6_0_1000.log\r\n",
      "log.8_0_1000.log        mem.8_0_1000.csv        timeline.8_0_1000.log\r\n"
     ]
    }
   ],
   "source": [
    "ls $results_dir"
   ]
  },
  {
   "cell_type": "code",
   "execution_count": 5,
   "metadata": {
    "collapsed": false
   },
   "outputs": [
    {
     "name": "stdout",
     "output_type": "stream",
     "text": [
      "Using results directory: results_cori_1mu_2016_05_17/\n",
      "55 total files\n",
      "18 memory log files\n",
      "18 timeline log files\n"
     ]
    }
   ],
   "source": [
    "job_results = parse_job_results(results_dir)"
   ]
  },
  {
   "cell_type": "code",
   "execution_count": 6,
   "metadata": {
    "collapsed": false
   },
   "outputs": [
    {
     "data": {
      "text/plain": [
       "[<utils.prep.JobResult at 0x1099ba240>,\n",
       " <utils.prep.JobResult at 0x1099af0f0>,\n",
       " <utils.prep.JobResult at 0x109a63a20>,\n",
       " <utils.prep.JobResult at 0x109951a58>,\n",
       " <utils.prep.JobResult at 0x1099c2da0>,\n",
       " <utils.prep.JobResult at 0x1099e8940>,\n",
       " <utils.prep.JobResult at 0x109879b00>,\n",
       " <utils.prep.JobResult at 0x1075b54a8>,\n",
       " <utils.prep.JobResult at 0x108cb0d30>,\n",
       " <utils.prep.JobResult at 0x1098be780>,\n",
       " <utils.prep.JobResult at 0x109af1b38>,\n",
       " <utils.prep.JobResult at 0x1099510b8>,\n",
       " <utils.prep.JobResult at 0x1099ba518>,\n",
       " <utils.prep.JobResult at 0x109879b38>,\n",
       " <utils.prep.JobResult at 0x1099515f8>,\n",
       " <utils.prep.JobResult at 0x1099c2940>,\n",
       " <utils.prep.JobResult at 0x109a03198>,\n",
       " <utils.prep.JobResult at 0x109af1518>]"
      ]
     },
     "execution_count": 6,
     "metadata": {},
     "output_type": "execute_result"
    }
   ],
   "source": [
    "job_results"
   ]
  },
  {
   "cell_type": "code",
   "execution_count": 7,
   "metadata": {
    "collapsed": true
   },
   "outputs": [],
   "source": [
    "import pickle"
   ]
  },
  {
   "cell_type": "code",
   "execution_count": 17,
   "metadata": {
    "collapsed": false
   },
   "outputs": [],
   "source": [
    "with open('test.pickle', 'wb') as f:\n",
    "    pickle.dump(job_results, f)"
   ]
  },
  {
   "cell_type": "code",
   "execution_count": 11,
   "metadata": {
    "collapsed": false
   },
   "outputs": [
    {
     "name": "stdout",
     "output_type": "stream",
     "text": [
      "G4HiveAna_1muon.ipynb             \u001b[34mresults_aibuild_tt_2016_05_25\u001b[m\u001b[m/\r\n",
      "G4HiveAna_1muon_knl.ipynb         \u001b[34mresults_aibuild_tt_2016_05_31\u001b[m\u001b[m/\r\n",
      "G4HiveAna_ttbar.ipynb             \u001b[34mresults_cori_1mu_2016_05_17\u001b[m\u001b[m/\r\n",
      "README.md                         \u001b[34mresults_endeavour_1mu\u001b[m\u001b[m/\r\n",
      "Untitled.ipynb                    \u001b[34mresults_endeavour_1mu_2016_08_06\u001b[m\u001b[m/\r\n",
      "\u001b[34mresults_aibuild_1mu_2016_05_19\u001b[m\u001b[m/   \u001b[34mresults_endeavour_1mu_2016_08_14\u001b[m\u001b[m/\r\n",
      "\u001b[34mresults_aibuild_1mu_2016_07_22\u001b[m\u001b[m/   test.pickle\r\n",
      "\u001b[34mresults_aibuild_tt_2016_05_21\u001b[m\u001b[m/    \u001b[34mutils\u001b[m\u001b[m/\r\n"
     ]
    }
   ],
   "source": [
    "ls"
   ]
  },
  {
   "cell_type": "code",
   "execution_count": 18,
   "metadata": {
    "collapsed": false
   },
   "outputs": [],
   "source": [
    "with open('test.pickle', 'rb') as f:\n",
    "    data = pickle.load(f)"
   ]
  },
  {
   "cell_type": "code",
   "execution_count": 20,
   "metadata": {
    "collapsed": false
   },
   "outputs": [
    {
     "data": {
      "text/plain": [
       "[<utils.prep.JobResult at 0x10993ddd8>,\n",
       " <utils.prep.JobResult at 0x109ad6a90>,\n",
       " <utils.prep.JobResult at 0x109ad6cf8>,\n",
       " <utils.prep.JobResult at 0x109a03a58>,\n",
       " <utils.prep.JobResult at 0x109933a20>,\n",
       " <utils.prep.JobResult at 0x109bb49b0>,\n",
       " <utils.prep.JobResult at 0x1099baf60>,\n",
       " <utils.prep.JobResult at 0x109a63c18>,\n",
       " <utils.prep.JobResult at 0x109a63518>,\n",
       " <utils.prep.JobResult at 0x109a63c88>,\n",
       " <utils.prep.JobResult at 0x109bd92b0>,\n",
       " <utils.prep.JobResult at 0x109bd9748>,\n",
       " <utils.prep.JobResult at 0x109bd99e8>,\n",
       " <utils.prep.JobResult at 0x109bd9c88>,\n",
       " <utils.prep.JobResult at 0x109bd90f0>,\n",
       " <utils.prep.JobResult at 0x109951c18>,\n",
       " <utils.prep.JobResult at 0x109b73a20>,\n",
       " <utils.prep.JobResult at 0x109b732e8>]"
      ]
     },
     "execution_count": 20,
     "metadata": {},
     "output_type": "execute_result"
    }
   ],
   "source": [
    "data"
   ]
  },
  {
   "cell_type": "code",
   "execution_count": null,
   "metadata": {
    "collapsed": true
   },
   "outputs": [],
   "source": []
  }
 ],
 "metadata": {
  "kernelspec": {
   "display_name": "Python 3",
   "language": "python",
   "name": "python3"
  },
  "language_info": {
   "codemirror_mode": {
    "name": "ipython",
    "version": 3
   },
   "file_extension": ".py",
   "mimetype": "text/x-python",
   "name": "python",
   "nbconvert_exporter": "python",
   "pygments_lexer": "ipython3",
   "version": "3.5.2"
  }
 },
 "nbformat": 4,
 "nbformat_minor": 1
}
