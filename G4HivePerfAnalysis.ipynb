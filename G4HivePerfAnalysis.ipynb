{
 "cells": [
  {
   "cell_type": "markdown",
   "metadata": {},
   "source": [
    "# G4Hive performance analysis\n",
    "\n",
    "Let's look at some measurements of G4Hive jobs for different number of threads and make some plots. We want to look at how memory and throughput scale with the number of threads. We also want to look at the timing of algorithms in the job."
   ]
  },
  {
   "cell_type": "code",
   "execution_count": 21,
   "metadata": {
    "collapsed": false
   },
   "outputs": [],
   "source": [
    "import os\n",
    "import csv\n",
    "import re\n",
    "import numpy as np\n",
    "from datetime import datetime\n",
    "from matplotlib import pyplot as plt\n",
    "import matplotlib.patches as mpatch\n",
    "%matplotlib inline"
   ]
  },
  {
   "cell_type": "markdown",
   "metadata": {},
   "source": [
    "# Prepare the data "
   ]
  },
  {
   "cell_type": "code",
   "execution_count": 3,
   "metadata": {
    "collapsed": false
   },
   "outputs": [
    {
     "name": "stdout",
     "output_type": "stream",
     "text": [
      "mem.1.0_1000e.csv       timeline.1.0_1000e.csv  times.1.0_1000e.log\r\n",
      "mem.2.0_1000e.csv       timeline.2.0_1000e.csv  times.2.0_1000e.log\r\n",
      "mem.3.0_1000e.csv       timeline.3.0_1000e.csv  times.3.0_1000e.log\r\n",
      "mem.4.0_1000e.csv       timeline.4.0_1000e.csv  times.4.0_1000e.log\r\n"
     ]
    }
   ],
   "source": [
    "ls results/"
   ]
  },
  {
   "cell_type": "code",
   "execution_count": 4,
   "metadata": {
    "collapsed": false
   },
   "outputs": [],
   "source": [
    "all_files = os.listdir('results')\n",
    "mem_files = [f for f in all_files if f.startswith('mem.')]\n",
    "time_files = [f for f in all_files if f.startswith('times.')]\n",
    "timeline_files = [f for f in all_files if f.startswith('timeline')]"
   ]
  },
  {
   "cell_type": "markdown",
   "metadata": {},
   "source": [
    "Let's take a peek at the format of these files"
   ]
  },
  {
   "cell_type": "code",
   "execution_count": 5,
   "metadata": {
    "collapsed": false
   },
   "outputs": [
    {
     "name": "stdout",
     "output_type": "stream",
     "text": [
      "mem.4.0_1000e.csv:\n",
      "    1462830602672384856,112\n",
      "    1462830603702327051,21020\n",
      "    1462830604740229267,47540\n",
      "times.4.0_1000e.log:\n",
      "    1462830602616738139\n",
      "    1462831010743171404\n",
      "timeline.4.0_1000e.csv:\n",
      "    #start end algorithm thread slot event\n",
      "    1462830779174154532 1462830779174269363 SGInputLoader 1089664768 0 0\n",
      "    1462830779174134839 1462830779174266959 SGInputLoader 1098061568 1 1\n"
     ]
    }
   ],
   "source": [
    "def peek_file(file):\n",
    "    print('%s:' % file)\n",
    "    with open(os.path.join('results', file)) as f:\n",
    "        for line in f.readlines()[0:3]:\n",
    "            print('    %s' % line.strip())\n",
    "            \n",
    "peek_file(mem_files[-1])\n",
    "peek_file(time_files[-1])\n",
    "peek_file(timeline_files[-1])"
   ]
  },
  {
   "cell_type": "markdown",
   "metadata": {},
   "source": [
    "Now we define some functions for parsing out the measurements from the log files.\n",
    "I use numpy's genfromtxt to do most of the parsing:\n",
    "http://docs.scipy.org/doc/numpy-1.10.0/reference/generated/numpy.genfromtxt.html"
   ]
  },
  {
   "cell_type": "code",
   "execution_count": 6,
   "metadata": {
    "collapsed": false
   },
   "outputs": [],
   "source": [
    "def parse_job_info(file_name):\n",
    "    \"\"\"Parses out basic job info from the file-name.\n",
    "    Returns nThread, nProc, nEvent\n",
    "    \"\"\"\n",
    "    x = re.match('\\w+\\.(\\d+).(\\d+)_(\\d+)e\\.\\w+', file_name)\n",
    "    return tuple(map(int, x.groups()))\n",
    "\n",
    "def parse_mem_file_np(mem_file):\n",
    "    \"\"\"Use numpy to parse the memory monitoring log file.\n",
    "    Returns a structured 2D array of monitoring data.\"\"\"\n",
    "    return np.genfromtxt(os.path.join('results', mem_file),\n",
    "                         delimiter=',', dtype='i8,i4',\n",
    "                         names=['times', 'mems'])\n",
    "\n",
    "def parse_time_file_np(time_file):\n",
    "    \"\"\"Extract job start and end time from a time log file\"\"\"\n",
    "    with open(os.path.join('results', time_file)) as f:\n",
    "        lines = f.readlines()\n",
    "    start_time, end_time = int(lines[0]), int(lines[-1])\n",
    "    return start_time, end_time\n",
    "\n",
    "def parse_timeline_np(timeline):\n",
    "    \"\"\"Parse alg timing results for one job with numpy\"\"\"\n",
    "    return np.genfromtxt(os.path.join('results', timeline),\n",
    "                         dtype='i8,i8,S15,i4,i4,i4',\n",
    "                         names=['starts', 'ends', 'algs', 'tids', 'slots', 'events'])"
   ]
  },
  {
   "cell_type": "code",
   "execution_count": 7,
   "metadata": {
    "collapsed": true
   },
   "outputs": [],
   "source": [
    "class JobResult:\n",
    "    \"\"\"A structure to hold all the measurements associated with one job\"\"\"\n",
    "    def __init__(self, nThread, nProc, nEvent):\n",
    "        self.nThread, self.nProc, self.nEvent = nThread, nProc, nEvent"
   ]
  },
  {
   "cell_type": "code",
   "execution_count": 8,
   "metadata": {
    "collapsed": false
   },
   "outputs": [],
   "source": [
    "job_results = []\n",
    "for mem_file, timeline, time_file in zip(mem_files, timeline_files, time_files):\n",
    "    nThread, nProc, nEvent = parse_job_info(mem_file)\n",
    "    j = JobResult(nThread, nProc, nEvent)\n",
    "    j.times_mems = parse_mem_file_np(mem_file)\n",
    "    j.start_time, j.end_time = parse_time_file_np(time_file)\n",
    "    j.timeline_results = parse_timeline_np(timeline)\n",
    "    job_results.append(j)"
   ]
  },
  {
   "cell_type": "markdown",
   "metadata": {},
   "source": [
    "## Event throughput scaling\n",
    "\n",
    "First, let's define some helper functions for dealing with job timing info.\n",
    "Then, we will plot the event throughput as a function of number of threads."
   ]
  },
  {
   "cell_type": "code",
   "execution_count": 9,
   "metadata": {
    "collapsed": true
   },
   "outputs": [],
   "source": [
    "def get_eventloop_time(job):\n",
    "    \"\"\"Calculates the time (in seconds) spent in the event loop for a given job\"\"\"\n",
    "    algs_start = job.timeline_results['starts']\n",
    "    algs_end = job.timeline_results['ends']\n",
    "    return (algs_end.max() - algs_start.min())*1e-9\n",
    "\n",
    "def get_throughput(job):\n",
    "    \"\"\"Calculate event throughput (events/s) for a job,\n",
    "       ignoring initialization and finalization\"\"\"\n",
    "    return job.nEvent / get_eventloop_time(job)"
   ]
  },
  {
   "cell_type": "code",
   "execution_count": 10,
   "metadata": {
    "collapsed": false
   },
   "outputs": [
    {
     "data": {
      "image/png": "[encoded data removed]",
      "text/plain": [
       "<matplotlib.figure.Figure at 0x109b7d748>"
      ]
     },
     "metadata": {},
     "output_type": "display_data"
    }
   ],
   "source": [
    "nThreads = np.array([j.nThread for j in job_results])\n",
    "thruPuts = np.array([get_throughput(j) for j in job_results])\n",
    "plt.figure()\n",
    "plt.plot(nThreads, thruPuts, 'ko')\n",
    "plt.xlabel('Number of threads')\n",
    "plt.ylabel('Events / s');"
   ]
  },
  {
   "cell_type": "markdown",
   "metadata": {},
   "source": [
    "## Memory scaling\n",
    "\n",
    "Start with some helper functions for memory calculations, then plot memory footprint as a function of number of threads, as well as the memory in each job as a function of time."
   ]
  },
  {
   "cell_type": "code",
   "execution_count": 11,
   "metadata": {
    "collapsed": true
   },
   "outputs": [],
   "source": [
    "def get_max_mem(job):\n",
    "    \"\"\"Calculate peak memory consumption in a job\"\"\"\n",
    "    return job.times_mems['mems'].max()"
   ]
  },
  {
   "cell_type": "code",
   "execution_count": 12,
   "metadata": {
    "collapsed": false
   },
   "outputs": [
    {
     "data": {
      "image/png": "[encoded data removed]",
      "text/plain": [
       "<matplotlib.figure.Figure at 0x109d6e908>"
      ]
     },
     "metadata": {},
     "output_type": "display_data"
    }
   ],
   "source": [
    "maxMems = np.array([get_max_mem(j)*1e-6 for j in job_results])\n",
    "plt.figure()\n",
    "plt.plot(nThreads, maxMems, 'ko')\n",
    "plt.xlabel('Number of threads')\n",
    "plt.ylabel('Memory consumption [GB]');"
   ]
  },
  {
   "cell_type": "code",
   "execution_count": 13,
   "metadata": {
    "collapsed": false
   },
   "outputs": [
    {
     "data": {
      "image/png": "[encoded data removed]",
      "text/plain": [
       "<matplotlib.figure.Figure at 0x109bf0da0>"
      ]
     },
     "metadata": {},
     "output_type": "display_data"
    }
   ],
   "source": [
    "# Show memory as a function of job time\n",
    "plt.figure()\n",
    "for j in job_results:\n",
    "    label = '%i threads' % j.nThread\n",
    "    mems = j.times_mems['mems']*1e-6\n",
    "    raw_times = j.times_mems['times']\n",
    "    times = raw_times - raw_times[0]\n",
    "    plt.plot(times, mems, label=label)\n",
    "plt.xlabel('Job time [s]')\n",
    "plt.ylabel('Memory consumption [GB]')\n",
    "plt.legend(loc=4);"
   ]
  },
  {
   "cell_type": "markdown",
   "metadata": {},
   "source": [
    "## Algorithm analysis\n",
    "\n",
    "Let's take a look at how the job breaks down by algorithm. We'd like to know how much time is spent in each algorithm and the timing distributions look for each alg.\n",
    "\n",
    "I'll need to figure out how to make a histogram in matplotlib.\n",
    "\n",
    "For the timeline plot, the following links may be useful:\n",
    "* http://stackoverflow.com/questions/7684475/plotting-labeled-intervals-in-matplotlib-gnuplot\n",
    "* http://www.clowersresearch.com/main/gantt-charts-in-matplotlib/\n",
    "* http://matplotlib.org/api/pyplot_api.html#matplotlib.pyplot.broken_barh\n",
    "\n",
    "To make the timeline plot, I think I will try to use the broken_barh in pyplot. Let's play around with it."
   ]
  },
  {
   "cell_type": "code",
   "execution_count": 150,
   "metadata": {
    "collapsed": false
   },
   "outputs": [
    {
     "name": "stdout",
     "output_type": "stream",
     "text": [
      "[ (1462830779174154532, 1462830779174269363, b'SGInputLoader', 1089664768, 0, 0)\n",
      " (1462830779174134839, 1462830779174266959, b'SGInputLoader', 1098061568, 1, 1)\n",
      " (1462830779174515549, 1462830779174517906, b'AthOutSeq', 1089664768, 0, 0)\n",
      " (1462830779184709056, 1462830779184711484, b'AthRegSeq', 1093863168, 0, 0)\n",
      " (1462830779184774954, 1462830779184774954, b'AthOutSeq', 1093863168, 1, 1)]\n"
     ]
    }
   ],
   "source": [
    "# For the timeline plot, we'll look at just one job for now\n",
    "j = job_results[3]\n",
    "\n",
    "# Get a subset of the timeline data to start with\n",
    "timelines = j.timeline_results[0:600]\n",
    "print(timelines[0:5])"
   ]
  },
  {
   "cell_type": "code",
   "execution_count": 151,
   "metadata": {
    "collapsed": false
   },
   "outputs": [],
   "source": [
    "# Get the unique thread IDs\n",
    "tids = timelines['tids']\n",
    "unique_tids = np.unique(tids)\n",
    "assert(len(unique_tids) == j.nThread) # sanity check\n",
    "\n",
    "# Now split the timeline results by thread ID\n",
    "timelines_by_thread = [timelines[tids == tid] for tid in unique_tids]"
   ]
  },
  {
   "cell_type": "code",
   "execution_count": 152,
   "metadata": {
    "collapsed": false
   },
   "outputs": [],
   "source": [
    "def get_time_bars(timeline, start_time):\n",
    "    \"\"\"\n",
    "    Calculate and format the timeline info in the form needed by broken_hbar.\n",
    "    Receives: a list of timeline info, probably for one thread, and a\n",
    "      global start time to normalize to.\n",
    "    Returns: a list of (start, duration) for each item in the input list.\n",
    "    \"\"\"\n",
    "    # Calculate durations\n",
    "    raw_starts, raw_ends = timeline['starts'], timeline['ends']\n",
    "    durations = raw_ends - raw_starts\n",
    "    # Shift start to zero\n",
    "    starts = raw_starts - start_time\n",
    "    assert(starts.min() >= 0)\n",
    "    # Convert to seconds in final list\n",
    "    time_bars = np.column_stack((starts, durations))*1e-9\n",
    "    return time_bars"
   ]
  },
  {
   "cell_type": "code",
   "execution_count": 153,
   "metadata": {
    "collapsed": false
   },
   "outputs": [],
   "source": [
    "# A color map for the algorithms\n",
    "alg_color_map = {'SGInputLoader' : 'black',\n",
    "                 'BeamEffectsAlg' : 'blue',\n",
    "                 'G4AtlasAlg' : 'red',\n",
    "                 'StreamHITS' : 'green',\n",
    "                 #'AthOutSeq' : 'yellow',\n",
    "                 #'AthRegSeq' : 'purple',\n",
    "                }\n",
    "\n",
    "def get_timeline_colors(timeline):\n",
    "    \"\"\"Get color list for the algs in timeline data\"\"\"\n",
    "    algs = timeline['algs']\n",
    "    colors = [alg_color_map.get(a.decode('UTF-8'), 'black') for a in algs]\n",
    "    return colors"
   ]
  },
  {
   "cell_type": "code",
   "execution_count": 154,
   "metadata": {
    "collapsed": true
   },
   "outputs": [],
   "source": [
    "# Event loop start time\n",
    "start_time = timelines['starts'].min()\n",
    "# Plot values by thread index\n",
    "times_by_thread = [get_time_bars(t, start_time) for t in timelines_by_thread]\n",
    "colors_by_thread = [get_timeline_colors(t) for t in timelines_by_thread]"
   ]
  },
  {
   "cell_type": "code",
   "execution_count": 161,
   "metadata": {
    "collapsed": false
   },
   "outputs": [
    {
     "data": {
      "image/png": "[encoded data removed]",
      "text/plain": [
       "<matplotlib.figure.Figure at 0x10aea0f28>"
      ]
     },
     "metadata": {},
     "output_type": "display_data"
    }
   ],
   "source": [
    "# Prepare the plot\n",
    "plt.figure(figsize=(14, 6))\n",
    "for i, (time_bars, colors) in enumerate(zip(times_by_thread, colors_by_thread)):\n",
    "    dy = 0.8\n",
    "    y1 = (i + 1.) - dy/2\n",
    "    plt.broken_barh(time_bars, [y1, dy], facecolors=colors)\n",
    "# Fake bar objects to populate the legend\n",
    "legbars = [mpatch.Rectangle((0, 0), 1, 1, fc=c) for c in alg_color_map.values()]\n",
    "plt.xlabel('Event loop time [s]')\n",
    "plt.ylabel('Thread')\n",
    "plt.yticks(range(1, len(unique_tids)+1))\n",
    "plt.ylim(ymax=len(unique_tids)+1.5)\n",
    "plt.xlim(xmin=0)\n",
    "plt.legend(legbars, alg_color_map.keys(), loc=1);"
   ]
  }
 ],
 "metadata": {
  "kernelspec": {
   "display_name": "Python 3",
   "language": "python",
   "name": "python3"
  },
  "language_info": {
   "codemirror_mode": {
    "name": "ipython",
    "version": 3
   },
   "file_extension": ".py",
   "mimetype": "text/x-python",
   "name": "python",
   "nbconvert_exporter": "python",
   "pygments_lexer": "ipython3",
   "version": "3.5.1"
  }
 },
 "nbformat": 4,
 "nbformat_minor": 0
}
