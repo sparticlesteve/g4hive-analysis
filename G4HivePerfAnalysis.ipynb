{
 "cells": [
  {
   "cell_type": "markdown",
   "metadata": {},
   "source": [
    "# G4Hive performance analysis\n",
    "\n",
    "Let's look at some measurements of G4Hive jobs for different number of threads and make some plots. We want to look at how memory and throughput scale with the number of threads. We also want to look at the timing of algorithms in the job."
   ]
  },
  {
   "cell_type": "code",
   "execution_count": 1,
   "metadata": {
    "collapsed": false
   },
   "outputs": [],
   "source": [
    "import os\n",
    "import csv\n",
    "import re\n",
    "import numpy as np\n",
    "from datetime import datetime\n",
    "from matplotlib import pyplot as plt\n",
    "import matplotlib.patches as mpatch\n",
    "%matplotlib inline"
   ]
  },
  {
   "cell_type": "markdown",
   "metadata": {},
   "source": [
    "# Prepare the data "
   ]
  },
  {
   "cell_type": "code",
   "execution_count": 2,
   "metadata": {
    "collapsed": false
   },
   "outputs": [
    {
     "name": "stdout",
     "output_type": "stream",
     "text": [
      "log.10_0_1000.log       mem.10_0_1000.csv       timeline.10_0_1000.log\r\n",
      "log.12_0_1000.log       mem.12_0_1000.csv       timeline.12_0_1000.log\r\n",
      "log.14_0_1000.log       mem.14_0_1000.csv       timeline.14_0_1000.log\r\n",
      "log.16_0_1000.log       mem.16_0_1000.csv       timeline.16_0_1000.log\r\n",
      "log.18_0_1000.log       mem.18_0_1000.csv       timeline.18_0_1000.log\r\n",
      "log.1_0_1000.log        mem.1_0_1000.csv        timeline.1_0_1000.log\r\n",
      "log.20_0_1000.log       mem.20_0_1000.csv       timeline.20_0_1000.log\r\n",
      "log.22_0_1000.log       mem.22_0_1000.csv       timeline.22_0_1000.log\r\n",
      "log.24_0_1000.log       mem.24_0_1000.csv       timeline.24_0_1000.log\r\n",
      "log.26_0_1000.log       mem.26_0_1000.csv       timeline.26_0_1000.log\r\n",
      "log.28_0_1000.log       mem.28_0_1000.csv       timeline.28_0_1000.log\r\n",
      "log.2_0_1000.log        mem.2_0_1000.csv        timeline.2_0_1000.log\r\n",
      "log.30_0_1000.log       mem.30_0_1000.csv       timeline.30_0_1000.log\r\n",
      "log.32_0_1000.log       mem.32_0_1000.csv       timeline.32_0_1000.log\r\n",
      "log.3_0_1000.log        mem.3_0_1000.csv        timeline.3_0_1000.log\r\n",
      "log.4_0_1000.log        mem.4_0_1000.csv        timeline.4_0_1000.log\r\n",
      "log.6_0_1000.log        mem.6_0_1000.csv        timeline.6_0_1000.log\r\n",
      "log.8_0_1000.log        mem.8_0_1000.csv        timeline.8_0_1000.log\r\n"
     ]
    }
   ],
   "source": [
    "ls results/"
   ]
  },
  {
   "cell_type": "code",
   "execution_count": 3,
   "metadata": {
    "collapsed": false
   },
   "outputs": [],
   "source": [
    "all_files = os.listdir('results')\n",
    "mem_files = [f for f in all_files if f.startswith('mem.')]\n",
    "time_files = [f for f in all_files if f.startswith('timeline.')]"
   ]
  },
  {
   "cell_type": "markdown",
   "metadata": {},
   "source": [
    "Let's take a peek at the format of these files"
   ]
  },
  {
   "cell_type": "code",
   "execution_count": 4,
   "metadata": {
    "collapsed": false
   },
   "outputs": [
    {
     "name": "stdout",
     "output_type": "stream",
     "text": [
      "mem.8_0_1000.csv:\n",
      "    1463471606505486668,112\n",
      "    1463471607658108662,4496\n",
      "    1463471608868549885,5492\n",
      "timeline.8_0_1000.log:\n",
      "    1463471606308344466\n",
      "    #start end algorithm thread slot event\n",
      "    1463471724897703574 1463471724897718679 AthOutSeq 3495376640 0 0\n"
     ]
    }
   ],
   "source": [
    "def peek_file(file):\n",
    "    print('%s:' % file)\n",
    "    with open(os.path.join('results', file)) as f:\n",
    "        for line in f.readlines()[0:3]:\n",
    "            print('    %s' % line.strip())\n",
    "            \n",
    "peek_file(mem_files[-1])\n",
    "peek_file(time_files[-1])"
   ]
  },
  {
   "cell_type": "markdown",
   "metadata": {},
   "source": [
    "Now we define some functions for parsing out the measurements from the log files.\n",
    "I use numpy's genfromtxt to do most of the parsing:\n",
    "http://docs.scipy.org/doc/numpy-1.10.0/reference/generated/numpy.genfromtxt.html"
   ]
  },
  {
   "cell_type": "code",
   "execution_count": 53,
   "metadata": {
    "collapsed": false
   },
   "outputs": [],
   "source": [
    "def parse_job_info(file_name):\n",
    "    \"\"\"Parses out basic job info from the file-name.\n",
    "    Returns nThread, nProc, nEvent\n",
    "    \"\"\"\n",
    "    config_str = file_name.split('.')[1]\n",
    "    nThread, nProc, nEvent = config_str.split('_')\n",
    "    return int(nThread), int(nProc), int(nEvent)\n",
    "\n",
    "def parse_mem_file(mem_file):\n",
    "    \"\"\"Use numpy to parse the memory monitoring log file.\n",
    "    Returns a structured 2D array of monitoring data.\"\"\"\n",
    "    return np.genfromtxt(os.path.join('results', mem_file),\n",
    "                         delimiter=',', dtype='i8,i4',\n",
    "                         names=['times', 'mems'])\n",
    "\n",
    "def parse_time_file(time_file):\n",
    "    \"\"\"Extract job start and end time from a time log file\"\"\"\n",
    "    with open(os.path.join('results', time_file)) as f:\n",
    "        lines = f.readlines()\n",
    "    start_time, end_time = int(lines[0]), int(lines[-1])\n",
    "    return start_time, end_time\n",
    "\n",
    "def parse_timeline(timeline):\n",
    "    \"\"\"Parse alg timing results for one job with numpy\"\"\"\n",
    "    results = np.genfromtxt(os.path.join('results', timeline),\n",
    "                            skip_header=2, skip_footer=1,\n",
    "                            dtype='i8,i8,S15,i4,i4,i4',\n",
    "                            names=['starts', 'ends', 'algs',\n",
    "                                   'tids', 'slots', 'events'])\n",
    "    results.sort(order='starts')\n",
    "    return results"
   ]
  },
  {
   "cell_type": "code",
   "execution_count": 54,
   "metadata": {
    "collapsed": true
   },
   "outputs": [],
   "source": [
    "class JobResult:\n",
    "    \"\"\"A structure to hold all the measurements associated with one job\"\"\"\n",
    "    def __init__(self, nThread, nProc, nEvent):\n",
    "        self.nThread, self.nProc, self.nEvent = nThread, nProc, nEvent"
   ]
  },
  {
   "cell_type": "code",
   "execution_count": 55,
   "metadata": {
    "collapsed": false
   },
   "outputs": [],
   "source": [
    "job_results = []\n",
    "for mem_file, time_file in zip(mem_files, time_files):\n",
    "    nThread, nProc, nEvent = parse_job_info(mem_file)\n",
    "    assert((nThread, nProc, nEvent) == parse_job_info(time_file))\n",
    "    j = JobResult(nThread, nProc, nEvent)\n",
    "    j.times_mems = parse_mem_file(mem_file)\n",
    "    # Currently, I'm dumping the start/end times into the timeline file\n",
    "    j.start_time, j.end_time = parse_time_file(time_file)\n",
    "    j.timeline_results = parse_timeline(time_file)\n",
    "    job_results.append(j)\n",
    "\n",
    "# Sort results by nThread\n",
    "job_results.sort(key=lambda j: j.nThread)"
   ]
  },
  {
   "cell_type": "markdown",
   "metadata": {},
   "source": [
    "## Event throughput scaling\n",
    "\n",
    "First, let's define some helper functions for dealing with job timing info.\n",
    "Then, we will plot the event throughput as a function of number of threads."
   ]
  },
  {
   "cell_type": "code",
   "execution_count": 56,
   "metadata": {
    "collapsed": true
   },
   "outputs": [],
   "source": [
    "def get_eventloop_time(job):\n",
    "    \"\"\"Calculates the time (in seconds) spent in the event loop for a given job\"\"\"\n",
    "    algs_start = job.timeline_results['starts']\n",
    "    algs_end = job.timeline_results['ends']\n",
    "    return (algs_end.max() - algs_start.min())*1e-9\n",
    "\n",
    "def get_throughput(job):\n",
    "    \"\"\"Calculate event throughput (events/s) for a job,\n",
    "       ignoring initialization and finalization\"\"\"\n",
    "    return job.nEvent / get_eventloop_time(job)"
   ]
  },
  {
   "cell_type": "code",
   "execution_count": 57,
   "metadata": {
    "collapsed": false
   },
   "outputs": [
    {
     "data": {
      "image/png": "[encoded data removed]",
      "text/plain": [
       "<matplotlib.figure.Figure at 0x108978748>"
      ]
     },
     "metadata": {},
     "output_type": "display_data"
    }
   ],
   "source": [
    "nThreads = np.array([j.nThread for j in job_results])\n",
    "thruPuts = np.array([get_throughput(j) for j in job_results])\n",
    "plt.figure()\n",
    "plt.plot(nThreads, thruPuts, 'ko')\n",
    "plt.xlabel('Number of threads')\n",
    "plt.ylabel('Events / s');"
   ]
  },
  {
   "cell_type": "markdown",
   "metadata": {},
   "source": [
    "## Memory scaling\n",
    "\n",
    "Start with some helper functions for memory calculations, then plot memory footprint as a function of number of threads, as well as the memory in each job as a function of time."
   ]
  },
  {
   "cell_type": "code",
   "execution_count": 58,
   "metadata": {
    "collapsed": true
   },
   "outputs": [],
   "source": [
    "def get_max_mem(job):\n",
    "    \"\"\"Calculate peak memory consumption in a job\"\"\"\n",
    "    return job.times_mems['mems'].max()"
   ]
  },
  {
   "cell_type": "code",
   "execution_count": 59,
   "metadata": {
    "collapsed": false
   },
   "outputs": [
    {
     "data": {
      "image/png": "[encoded data removed]",
      "text/plain": [
       "<matplotlib.figure.Figure at 0x108aacf28>"
      ]
     },
     "metadata": {},
     "output_type": "display_data"
    }
   ],
   "source": [
    "maxMems = np.array([get_max_mem(j)*1e-6 for j in job_results])\n",
    "plt.figure()\n",
    "plt.plot(nThreads, maxMems, 'ko')\n",
    "plt.xlabel('Number of threads')\n",
    "plt.ylabel('Memory consumption [GB]');"
   ]
  },
  {
   "cell_type": "code",
   "execution_count": 60,
   "metadata": {
    "collapsed": false
   },
   "outputs": [
    {
     "data": {
      "text/plain": [
       "[<__main__.JobResult at 0x108cc5208>,\n",
       " <__main__.JobResult at 0x108c69a20>,\n",
       " <__main__.JobResult at 0x109babeb8>,\n",
       " <__main__.JobResult at 0x108cb2978>,\n",
       " <__main__.JobResult at 0x108b22c88>,\n",
       " <__main__.JobResult at 0x109e504e0>]"
      ]
     },
     "execution_count": 60,
     "metadata": {},
     "output_type": "execute_result"
    }
   ],
   "source": [
    "job_results[::3]"
   ]
  },
  {
   "cell_type": "code",
   "execution_count": 61,
   "metadata": {
    "collapsed": false
   },
   "outputs": [
    {
     "data": {
      "image/png": "[encoded data removed]",
      "text/plain": [
       "<matplotlib.figure.Figure at 0x108bee828>"
      ]
     },
     "metadata": {},
     "output_type": "display_data"
    }
   ],
   "source": [
    "# Show memory as a function of job time\n",
    "plt.figure()\n",
    "for j in job_results[::3]:\n",
    "    label = '%i threads' % j.nThread\n",
    "    mems = j.times_mems['mems']*1e-6\n",
    "    raw_times = j.times_mems['times']\n",
    "    times = raw_times - raw_times[0]\n",
    "    plt.plot(times, mems, label=label)\n",
    "plt.xlabel('Job time [s]')\n",
    "plt.ylabel('Memory consumption [GB]')\n",
    "plt.legend(loc=4);"
   ]
  },
  {
   "cell_type": "markdown",
   "metadata": {},
   "source": [
    "## Algorithm analysis\n",
    "\n",
    "Let's take a look at how the job breaks down by algorithm. We'd like to know how much time is spent in each algorithm and the timing distributions look for each alg.\n",
    "\n",
    "I'll need to figure out how to make a histogram in matplotlib.\n",
    "\n",
    "For the timeline plot, the following links may be useful:\n",
    "* http://stackoverflow.com/questions/7684475/plotting-labeled-intervals-in-matplotlib-gnuplot\n",
    "* http://www.clowersresearch.com/main/gantt-charts-in-matplotlib/\n",
    "* http://matplotlib.org/api/pyplot_api.html#matplotlib.pyplot.broken_barh\n",
    "\n",
    "To make the timeline plot, I think I will try to use the broken_barh in pyplot. Let's play around with it."
   ]
  },
  {
   "cell_type": "code",
   "execution_count": 98,
   "metadata": {
    "collapsed": false
   },
   "outputs": [
    {
     "name": "stdout",
     "output_type": "stream",
     "text": [
      "[(1463471421547378626, 1463471421547389956, b'AthOutSeq', -795392256, 0, 0)\n",
      " (1463471421547386457, 1463471421547396680, b'AthRegSeq', -803789056, 0, 0)\n",
      " (1463471421547388037, 1463471421547680159, b'SGInputLoader', -799590656, 0, 0)\n",
      " (1463471421547390798, 1463471421547616987, b'SGInputLoader', -791193856, 1, 1)\n",
      " (1463471421547940806, 1463471421609851420, b'BeamEffectsAlg', -803789056, 0, 0)]\n"
     ]
    }
   ],
   "source": [
    "# For the timeline plot, we'll look at just one job for now\n",
    "j = job_results[3]\n",
    "\n",
    "# Get a subset of the timeline data to start with\n",
    "timelines = j.timeline_results[0:250]\n",
    "print(timelines[0:5])"
   ]
  },
  {
   "cell_type": "code",
   "execution_count": 99,
   "metadata": {
    "collapsed": false
   },
   "outputs": [],
   "source": [
    "# Get the unique thread IDs\n",
    "tids = timelines['tids']\n",
    "unique_tids = np.unique(tids)\n",
    "assert(len(unique_tids) == j.nThread) # sanity check\n",
    "\n",
    "# Now split the timeline results by thread ID\n",
    "timelines_by_thread = [timelines[tids == tid] for tid in unique_tids]"
   ]
  },
  {
   "cell_type": "code",
   "execution_count": 100,
   "metadata": {
    "collapsed": false
   },
   "outputs": [],
   "source": [
    "def get_time_bars(timeline, start_time):\n",
    "    \"\"\"\n",
    "    Calculate and format the timeline info in the form needed by broken_hbar.\n",
    "    Receives: a list of timeline info, probably for one thread, and a\n",
    "      global start time to normalize to.\n",
    "    Returns: a list of (start, duration) for each item in the input list.\n",
    "    \"\"\"\n",
    "    # Calculate durations\n",
    "    raw_starts, raw_ends = timeline['starts'], timeline['ends']\n",
    "    durations = raw_ends - raw_starts\n",
    "    # Shift start to zero\n",
    "    starts = raw_starts - start_time\n",
    "    assert(starts.min() >= 0)\n",
    "    # Convert to seconds in final list\n",
    "    time_bars = np.column_stack((starts, durations))*1e-9\n",
    "    return time_bars"
   ]
  },
  {
   "cell_type": "code",
   "execution_count": 101,
   "metadata": {
    "collapsed": false
   },
   "outputs": [],
   "source": [
    "# A color map for the algorithms\n",
    "alg_color_map = {'SGInputLoader' : 'yellow',\n",
    "                 'BeamEffectsAlg' : 'blue',\n",
    "                 'G4AtlasAlg' : 'red',\n",
    "                 'StreamHITS' : 'green',\n",
    "                 #'AthOutSeq' : 'yellow',\n",
    "                 #'AthRegSeq' : 'purple',\n",
    "                }\n",
    "\n",
    "def get_timeline_colors(timeline):\n",
    "    \"\"\"Get color list for the algs in timeline data\"\"\"\n",
    "    algs = timeline['algs']\n",
    "    colors = [alg_color_map.get(a.decode('UTF-8'), 'black') for a in algs]\n",
    "    return colors"
   ]
  },
  {
   "cell_type": "code",
   "execution_count": 102,
   "metadata": {
    "collapsed": true
   },
   "outputs": [],
   "source": [
    "# Event loop start time\n",
    "start_time = timelines['starts'].min()\n",
    "# Plot values by thread index\n",
    "times_by_thread = [get_time_bars(t, start_time) for t in timelines_by_thread]\n",
    "colors_by_thread = [get_timeline_colors(t) for t in timelines_by_thread]"
   ]
  },
  {
   "cell_type": "code",
   "execution_count": 103,
   "metadata": {
    "collapsed": false
   },
   "outputs": [
    {
     "data": {
      "image/png": "[encoded data removed]",
      "text/plain": [
       "<matplotlib.figure.Figure at 0x109b659e8>"
      ]
     },
     "metadata": {},
     "output_type": "display_data"
    }
   ],
   "source": [
    "# Prepare the plot\n",
    "plt.figure(figsize=(14, 6))\n",
    "for i, (time_bars, colors) in enumerate(zip(times_by_thread, colors_by_thread)):\n",
    "    dy = 0.8\n",
    "    y1 = (i + 1.) - dy/2\n",
    "    plt.broken_barh(time_bars, [y1, dy], facecolors=colors)\n",
    "# Fake bar objects to populate the legend\n",
    "legbars = [mpatch.Rectangle((0, 0), 1, 1, fc=c) for c in alg_color_map.values()]\n",
    "plt.xlabel('Event loop time [s]')\n",
    "plt.ylabel('Thread')\n",
    "plt.yticks(range(1, len(unique_tids)+1))\n",
    "plt.ylim(ymax=len(unique_tids)+1.5)\n",
    "plt.xlim(xmin=0)\n",
    "plt.legend(legbars, alg_color_map.keys(), loc=1);"
   ]
  }
 ],
 "metadata": {
  "kernelspec": {
   "display_name": "Python 3",
   "language": "python",
   "name": "python3"
  },
  "language_info": {
   "codemirror_mode": {
    "name": "ipython",
    "version": 3
   },
   "file_extension": ".py",
   "mimetype": "text/x-python",
   "name": "python",
   "nbconvert_exporter": "python",
   "pygments_lexer": "ipython3",
   "version": "3.5.1"
  }
 },
 "nbformat": 4,
 "nbformat_minor": 0
}
