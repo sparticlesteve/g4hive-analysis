{
 "cells": [
  {
   "cell_type": "markdown",
   "metadata": {},
   "source": [
    "# Throughput table\n",
    "\n",
    "Let's generate a nice table comparing Xeon and Xeon Phi throughputs to go into the paper."
   ]
  },
  {
   "cell_type": "code",
   "execution_count": 1,
   "metadata": {
    "collapsed": true
   },
   "outputs": [],
   "source": [
    "import os\n",
    "import numpy as np\n",
    "from matplotlib import pyplot as plt"
   ]
  },
  {
   "cell_type": "code",
   "execution_count": 2,
   "metadata": {
    "collapsed": true
   },
   "outputs": [],
   "source": [
    "# Local imports\n",
    "from utils.prep import parse_job_results, load_job_results\n",
    "from utils.timing import get_avg_throughput"
   ]
  },
  {
   "cell_type": "markdown",
   "metadata": {},
   "source": [
    "## Load the job results"
   ]
  },
  {
   "cell_type": "code",
   "execution_count": 3,
   "metadata": {
    "collapsed": false
   },
   "outputs": [
    {
     "name": "stdout",
     "output_type": "stream",
     "text": [
      "AvgThruputTest.ipynb              \u001b[34mresults_aibuild_1mu_2016_07_22\u001b[m\u001b[m/\r\n",
      "G4HiveAna_1muon.ipynb             \u001b[34mresults_aibuild_tt_2016_05_21\u001b[m\u001b[m/\r\n",
      "G4HiveAna_1muon_knl.ipynb         \u001b[34mresults_aibuild_tt_2016_05_25\u001b[m\u001b[m/\r\n",
      "G4HiveAna_ttbar.ipynb             \u001b[34mresults_aibuild_tt_2016_05_31\u001b[m\u001b[m/\r\n",
      "README.md                         \u001b[34mresults_cori_1mu_2016_05_17\u001b[m\u001b[m/\r\n",
      "TestPickle.ipynb                  \u001b[34mresults_endeavour_1mu\u001b[m\u001b[m/\r\n",
      "ThroughputTable.ipynb             \u001b[34mresults_endeavour_1mu_2016_08_06\u001b[m\u001b[m/\r\n",
      "Untitled.ipynb                    \u001b[34mresults_endeavour_1mu_2016_08_14\u001b[m\u001b[m/\r\n",
      "\u001b[31mparseResults.py\u001b[m\u001b[m*                  test.pickle\r\n",
      "\u001b[34mresults_aibuild_1mu_2016_05_19\u001b[m\u001b[m/   \u001b[34mutils\u001b[m\u001b[m/\r\n"
     ]
    }
   ],
   "source": [
    "ls"
   ]
  },
  {
   "cell_type": "code",
   "execution_count": 5,
   "metadata": {
    "collapsed": false
   },
   "outputs": [
    {
     "name": "stdout",
     "output_type": "stream",
     "text": [
      "Using results directory: results_endeavour_1mu\n",
      "216 total files\n",
      "71 memory log files\n",
      "71 timeline log files\n"
     ]
    }
   ],
   "source": [
    "results_1mu_ivy = load_job_results('results_aibuild_1mu_2016_07_22/results.pickle')\n",
    "\n",
    "results_1mu_knl = parse_job_results('results_endeavour_1mu')\n",
    "#results_1mu_knl = load_job_results('results_endeavour_1mu/results.pickle')"
   ]
  },
  {
   "cell_type": "markdown",
   "metadata": {},
   "source": [
    "## Get the throughputs"
   ]
  },
  {
   "cell_type": "code",
   "execution_count": 6,
   "metadata": {
    "collapsed": true
   },
   "outputs": [],
   "source": [
    "thruputs_1mu_ivy = dict((j.nThread, get_avg_throughput(j)) for j in results_1mu_ivy)\n",
    "thruputs_1mu_knl = dict((j.nThread, get_avg_throughput(j)) for j in results_1mu_knl)"
   ]
  },
  {
   "cell_type": "markdown",
   "metadata": {},
   "source": [
    "## Build the table data"
   ]
  },
  {
   "cell_type": "code",
   "execution_count": 7,
   "metadata": {
    "collapsed": false
   },
   "outputs": [],
   "source": [
    "threads = [1, 4, 6, 8, 12, 16, 24, 32]"
   ]
  },
  {
   "cell_type": "code",
   "execution_count": 8,
   "metadata": {
    "collapsed": true
   },
   "outputs": [],
   "source": [
    "def print_thruput_table(threads, thruputs_ivy, thruputs_knl):\n",
    "    print('Threads     Xeon  Xeon-phi  Ratio')\n",
    "    for t in threads:\n",
    "        thruput1, thruput2 = thruputs_ivy[t], thruputs_knl[t]\n",
    "        print('{0:7d} {1:8.2f} {2:9.2f} {3:6.2f}'.\n",
    "              format(t, thruput1, thruput2, thruput1/thruput2))"
   ]
  },
  {
   "cell_type": "code",
   "execution_count": 9,
   "metadata": {
    "collapsed": false
   },
   "outputs": [
    {
     "name": "stdout",
     "output_type": "stream",
     "text": [
      "Threads     Xeon  Xeon-phi  Ratio\n",
      "      1     1.38      0.24   5.78\n",
      "      4     4.95      0.91   5.46\n",
      "      6     8.31      1.47   5.65\n",
      "      8    10.74      2.02   5.32\n",
      "     12    16.01      2.93   5.46\n",
      "     16    21.24      3.90   5.44\n",
      "     24    23.68      5.58   4.24\n",
      "     32    24.55      7.45   3.30\n"
     ]
    }
   ],
   "source": [
    "print_thruput_table(threads, thruputs_1mu_ivy, thruputs_1mu_knl)"
   ]
  },
  {
   "cell_type": "code",
   "execution_count": null,
   "metadata": {
    "collapsed": true
   },
   "outputs": [],
   "source": []
  }
 ],
 "metadata": {
  "kernelspec": {
   "display_name": "Python 3",
   "language": "python",
   "name": "python3"
  },
  "language_info": {
   "codemirror_mode": {
    "name": "ipython",
    "version": 3
   },
   "file_extension": ".py",
   "mimetype": "text/x-python",
   "name": "python",
   "nbconvert_exporter": "python",
   "pygments_lexer": "ipython3",
   "version": "3.5.2"
  }
 },
 "nbformat": 4,
 "nbformat_minor": 1
}
